{
 "cells": [
  {
   "cell_type": "code",
   "execution_count": null,
   "metadata": {},
   "outputs": [],
   "source": [
    "pip install pillow-heif, imageio[ffmpeg],moviepy\n"
   ]
  },
  {
   "cell_type": "code",
   "execution_count": 1,
   "metadata": {},
   "outputs": [],
   "source": [
    "import imageio,moviepy.editor as mpe\n",
    "from PIL import Image\n",
    "from pillow_heif import register_heif_opener\n",
    "import os"
   ]
  },
  {
   "cell_type": "code",
   "execution_count": 7,
   "metadata": {},
   "outputs": [],
   "source": [
    "register_heif_opener()"
   ]
  },
  {
   "cell_type": "code",
   "execution_count": null,
   "metadata": {},
   "outputs": [],
   "source": [
    "def count_files(path) :\n",
    "  # count=0 Calculating Total Files\n",
    "  # thisset={'new'} Checking all differents extensions\n",
    "  for root,dirs,files in os.walk(path):\n",
    "    for file in files:\n",
    "      # print(file)\n",
    "      split_tup = os.path.splitext(file)\n",
    "      file_name = split_tup[0]\n",
    "      print(file_name)\n",
    "      file_extension = split_tup[1]\n",
    "      thisset.add(file_extension)\n",
    "      # print(\"File Extension: \", file_extension)\n",
    "      if (file_extension == '.HEIC' or file_extension == '.heic') :\n",
    "        img = Image.open(\"Input Folder Path\"+file)\n",
    "        img.save(\"Output Folder Path\"+file_name+\".jpg\")\n",
    "      if (file_extension == '.MOV' or file_extension == '.mov') :\n",
    "        clip = mpe.VideoFileClip('Input Folder Path'+file)\n",
    "        clip.write_videofile('Output Folder Path'+file_name+\".mp4\")\n",
    "        print(\".mov file\")\n",
    "      else :\n",
    "        img.save(\"Output Folder Path\"+file_name+\".jpg\")\n",
    "        count+=1\n",
    "        print(\"Other Extentsions Found\")\n",
    "         \n",
    "  # return count\n",
    "path=(\"Input Folder Path\")\n",
    "number_Of_Files=count_files(path)\n",
    "print(number_Of_Files)\n",
    "# print()"
   ]
  },
  {
   "cell_type": "code",
   "execution_count": null,
   "metadata": {},
   "outputs": [],
   "source": []
  }
 ],
 "metadata": {
  "kernelspec": {
   "display_name": ".venv",
   "language": "python",
   "name": "python3"
  },
  "language_info": {
   "codemirror_mode": {
    "name": "ipython",
    "version": 3
   },
   "file_extension": ".py",
   "mimetype": "text/x-python",
   "name": "python",
   "nbconvert_exporter": "python",
   "pygments_lexer": "ipython3",
   "version": "3.12.0"
  }
 },
 "nbformat": 4,
 "nbformat_minor": 2
}
