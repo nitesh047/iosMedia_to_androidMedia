{
 "cells": [
  {
   "cell_type": "code",
   "execution_count": null,
   "metadata": {},
   "outputs": [],
   "source": [
    "pip install pillow-heif\n"
   ]
  },
  {
   "cell_type": "code",
   "execution_count": null,
   "metadata": {},
   "outputs": [],
   "source": [
    "pip install imageio[ffmpeg]\n"
   ]
  },
  {
   "cell_type": "code",
   "execution_count": null,
   "metadata": {},
   "outputs": [],
   "source": [
    "pip install moviepy\n"
   ]
  },
  {
   "cell_type": "code",
   "execution_count": 1,
   "metadata": {},
   "outputs": [],
   "source": [
    "import moviepy.editor as mpe"
   ]
  },
  {
   "cell_type": "code",
   "execution_count": 2,
   "metadata": {},
   "outputs": [],
   "source": [
    "import imageio"
   ]
  },
  {
   "cell_type": "code",
   "execution_count": 6,
   "metadata": {},
   "outputs": [],
   "source": [
    "from PIL import Image\n",
    "from pillow_heif import register_heif_opener\n",
    "import os"
   ]
  },
  {
   "cell_type": "code",
   "execution_count": 7,
   "metadata": {},
   "outputs": [],
   "source": [
    "register_heif_opener()"
   ]
  },
  {
   "cell_type": "code",
   "execution_count": 9,
   "metadata": {},
   "outputs": [
    {
     "name": "stdout",
     "output_type": "stream",
     "text": [
      "IMG_0866\n",
      "Image\n",
      "IMG_0867\n",
      "Image\n",
      "IMG_0868\n",
      "Image\n",
      "IMG_0869\n",
      "Image\n",
      "IMG_0870\n",
      "Image\n",
      "IMG_0871\n",
      "Image\n",
      "IMG_0874\n",
      "Image\n",
      "IMG_0875\n",
      "Moviepy - Building video ./Videos/IMG_0875.mp4.\n",
      "MoviePy - Writing audio in IMG_0875TEMP_MPY_wvf_snd.mp3\n"
     ]
    },
    {
     "name": "stderr",
     "output_type": "stream",
     "text": [
      "                                                                   \r"
     ]
    },
    {
     "name": "stdout",
     "output_type": "stream",
     "text": [
      "MoviePy - Done.\n",
      "Moviepy - Writing video ./Videos/IMG_0875.mp4\n",
      "\n"
     ]
    },
    {
     "name": "stderr",
     "output_type": "stream",
     "text": [
      "                                                              \r"
     ]
    },
    {
     "name": "stdout",
     "output_type": "stream",
     "text": [
      "Moviepy - Done !\n",
      "Moviepy - video ready ./Videos/IMG_0875.mp4\n",
      ".mov file\n",
      "IMG_0877\n",
      "Image\n",
      "IMG_0878\n",
      "Image\n",
      "IMG_0879\n",
      "Image\n",
      "IMG_0880\n",
      "Image\n",
      "IMG_0881\n",
      "Image\n",
      "IMG_0882\n",
      "Image\n",
      "IMG_0883\n",
      "Image\n",
      "IMG_0885\n",
      "Image\n",
      "IMG_0886\n",
      "Image\n",
      "IMG_0887\n",
      "Image\n",
      "IMG_0888\n",
      "Image\n",
      "IMG_0889\n",
      "Image\n",
      "IMG_0890\n",
      "Image\n",
      "IMG_0891\n",
      "Image\n",
      "IMG_0892\n",
      "Image\n",
      "IMG_0893\n",
      "Image\n",
      "IMG_0894\n",
      "Image\n",
      "IMG_0895\n",
      "Image\n",
      "IMG_0896\n",
      "Image\n",
      "IMG_0897\n",
      "Image\n",
      "IMG_0899\n",
      "Image\n",
      "IMG_0900\n",
      "Image\n",
      "IMG_0901\n",
      "Image\n",
      "IMG_0902\n",
      "Image\n",
      "IMG_0904\n",
      "Moviepy - Building video ./Videos/IMG_0904.mp4.\n",
      "MoviePy - Writing audio in IMG_0904TEMP_MPY_wvf_snd.mp3\n"
     ]
    },
    {
     "name": "stderr",
     "output_type": "stream",
     "text": [
      "                                                                    \r"
     ]
    },
    {
     "name": "stdout",
     "output_type": "stream",
     "text": [
      "MoviePy - Done.\n",
      "Moviepy - Writing video ./Videos/IMG_0904.mp4\n",
      "\n"
     ]
    },
    {
     "name": "stderr",
     "output_type": "stream",
     "text": [
      "                                                              \r"
     ]
    },
    {
     "name": "stdout",
     "output_type": "stream",
     "text": [
      "Moviepy - Done !\n",
      "Moviepy - video ready ./Videos/IMG_0904.mp4\n",
      ".mov file\n",
      "IMG_0905\n",
      "Image\n",
      "IMG_0906\n",
      "Image\n",
      "IMG_0907\n",
      "Image\n",
      "IMG_0908\n",
      "Moviepy - Building video ./Videos/IMG_0908.mp4.\n",
      "MoviePy - Writing audio in IMG_0908TEMP_MPY_wvf_snd.mp3\n"
     ]
    },
    {
     "name": "stderr",
     "output_type": "stream",
     "text": [
      "                                                                   \r"
     ]
    },
    {
     "name": "stdout",
     "output_type": "stream",
     "text": [
      "MoviePy - Done.\n",
      "Moviepy - Writing video ./Videos/IMG_0908.mp4\n",
      "\n"
     ]
    },
    {
     "name": "stderr",
     "output_type": "stream",
     "text": [
      "                                                              \r"
     ]
    },
    {
     "name": "stdout",
     "output_type": "stream",
     "text": [
      "Moviepy - Done !\n",
      "Moviepy - video ready ./Videos/IMG_0908.mp4\n",
      ".mov file\n",
      "IMG_0909\n",
      "Image\n",
      "IMG_0910\n",
      "Image\n",
      "IMG_0911\n",
      "Image\n",
      "IMG_0912\n",
      "Image\n",
      "IMG_0913\n",
      "Image\n",
      "IMG_0914\n",
      "Image\n",
      "IMG_0915\n",
      "Image\n",
      "IMG_0916\n",
      "Moviepy - Building video ./Videos/IMG_0916.mp4.\n",
      "MoviePy - Writing audio in IMG_0916TEMP_MPY_wvf_snd.mp3\n"
     ]
    },
    {
     "name": "stderr",
     "output_type": "stream",
     "text": [
      "                                                               \r"
     ]
    },
    {
     "name": "stdout",
     "output_type": "stream",
     "text": [
      "MoviePy - Done.\n",
      "Moviepy - Writing video ./Videos/IMG_0916.mp4\n",
      "\n"
     ]
    },
    {
     "name": "stderr",
     "output_type": "stream",
     "text": [
      "                                                            \r"
     ]
    },
    {
     "name": "stdout",
     "output_type": "stream",
     "text": [
      "Moviepy - Done !\n",
      "Moviepy - video ready ./Videos/IMG_0916.mp4\n",
      ".mov file\n",
      "IMG_0917\n",
      "Moviepy - Building video ./Videos/IMG_0917.mp4.\n",
      "MoviePy - Writing audio in IMG_0917TEMP_MPY_wvf_snd.mp3\n"
     ]
    },
    {
     "name": "stderr",
     "output_type": "stream",
     "text": [
      "                                                                   \r"
     ]
    },
    {
     "name": "stdout",
     "output_type": "stream",
     "text": [
      "MoviePy - Done.\n",
      "Moviepy - Writing video ./Videos/IMG_0917.mp4\n",
      "\n"
     ]
    },
    {
     "name": "stderr",
     "output_type": "stream",
     "text": [
      "                                                              \r"
     ]
    },
    {
     "name": "stdout",
     "output_type": "stream",
     "text": [
      "Moviepy - Done !\n",
      "Moviepy - video ready ./Videos/IMG_0917.mp4\n",
      ".mov file\n",
      "IMG_0918\n",
      "Moviepy - Building video ./Videos/IMG_0918.mp4.\n",
      "MoviePy - Writing audio in IMG_0918TEMP_MPY_wvf_snd.mp3\n"
     ]
    },
    {
     "name": "stderr",
     "output_type": "stream",
     "text": [
      "                                                                   \r"
     ]
    },
    {
     "name": "stdout",
     "output_type": "stream",
     "text": [
      "MoviePy - Done.\n",
      "Moviepy - Writing video ./Videos/IMG_0918.mp4\n",
      "\n"
     ]
    },
    {
     "name": "stderr",
     "output_type": "stream",
     "text": [
      "                                                              \r"
     ]
    },
    {
     "name": "stdout",
     "output_type": "stream",
     "text": [
      "Moviepy - Done !\n",
      "Moviepy - video ready ./Videos/IMG_0918.mp4\n",
      ".mov file\n",
      "IMG_0919\n",
      "Moviepy - Building video ./Videos/IMG_0919.mp4.\n",
      "Moviepy - Writing video ./Videos/IMG_0919.mp4\n",
      "\n"
     ]
    },
    {
     "name": "stderr",
     "output_type": "stream",
     "text": [
      "                                                            \r"
     ]
    },
    {
     "name": "stdout",
     "output_type": "stream",
     "text": [
      "Moviepy - Done !\n",
      "Moviepy - video ready ./Videos/IMG_0919.mp4\n",
      ".mov file\n",
      "IMG_0921\n",
      "Image\n",
      "IMG_0922\n",
      "Moviepy - Building video ./Videos/IMG_0922.mp4.\n",
      "MoviePy - Writing audio in IMG_0922TEMP_MPY_wvf_snd.mp3\n"
     ]
    },
    {
     "name": "stderr",
     "output_type": "stream",
     "text": [
      "                                                                   \r"
     ]
    },
    {
     "name": "stdout",
     "output_type": "stream",
     "text": [
      "MoviePy - Done.\n",
      "Moviepy - Writing video ./Videos/IMG_0922.mp4\n",
      "\n"
     ]
    },
    {
     "name": "stderr",
     "output_type": "stream",
     "text": [
      "                                                              \r"
     ]
    },
    {
     "name": "stdout",
     "output_type": "stream",
     "text": [
      "Moviepy - Done !\n",
      "Moviepy - video ready ./Videos/IMG_0922.mp4\n",
      ".mov file\n",
      "IMG_0923\n",
      "Moviepy - Building video ./Videos/IMG_0923.mp4.\n",
      "MoviePy - Writing audio in IMG_0923TEMP_MPY_wvf_snd.mp3\n"
     ]
    },
    {
     "name": "stderr",
     "output_type": "stream",
     "text": [
      "                                                                   \r"
     ]
    },
    {
     "name": "stdout",
     "output_type": "stream",
     "text": [
      "MoviePy - Done.\n",
      "Moviepy - Writing video ./Videos/IMG_0923.mp4\n",
      "\n"
     ]
    },
    {
     "name": "stderr",
     "output_type": "stream",
     "text": [
      "                                                              \r"
     ]
    },
    {
     "name": "stdout",
     "output_type": "stream",
     "text": [
      "Moviepy - Done !\n",
      "Moviepy - video ready ./Videos/IMG_0923.mp4\n",
      ".mov file\n",
      "IMG_0924\n",
      "Image\n",
      "IMG_0925\n",
      "Image\n",
      "IMG_0926\n",
      "Image\n",
      "IMG_0927\n",
      "Image\n",
      "IMG_0928\n",
      "Moviepy - Building video ./Videos/IMG_0928.mp4.\n",
      "MoviePy - Writing audio in IMG_0928TEMP_MPY_wvf_snd.mp3\n"
     ]
    },
    {
     "name": "stderr",
     "output_type": "stream",
     "text": [
      "                                                                   \r"
     ]
    },
    {
     "name": "stdout",
     "output_type": "stream",
     "text": [
      "MoviePy - Done.\n",
      "Moviepy - Writing video ./Videos/IMG_0928.mp4\n",
      "\n"
     ]
    },
    {
     "name": "stderr",
     "output_type": "stream",
     "text": [
      "                                                              \r"
     ]
    },
    {
     "name": "stdout",
     "output_type": "stream",
     "text": [
      "Moviepy - Done !\n",
      "Moviepy - video ready ./Videos/IMG_0928.mp4\n",
      ".mov file\n",
      "IMG_0929\n",
      "Moviepy - Building video ./Videos/IMG_0929.mp4.\n",
      "MoviePy - Writing audio in IMG_0929TEMP_MPY_wvf_snd.mp3\n"
     ]
    },
    {
     "name": "stderr",
     "output_type": "stream",
     "text": [
      "                                                                  \r"
     ]
    },
    {
     "name": "stdout",
     "output_type": "stream",
     "text": [
      "MoviePy - Done.\n",
      "Moviepy - Writing video ./Videos/IMG_0929.mp4\n",
      "\n"
     ]
    },
    {
     "name": "stderr",
     "output_type": "stream",
     "text": [
      "                                                              \r"
     ]
    },
    {
     "name": "stdout",
     "output_type": "stream",
     "text": [
      "Moviepy - Done !\n",
      "Moviepy - video ready ./Videos/IMG_0929.mp4\n",
      ".mov file\n",
      "IMG_0930\n",
      "Image\n",
      "IMG_0932\n",
      "Image\n",
      "IMG_0933\n",
      "Image\n",
      "IMG_0934\n",
      "Image\n",
      "IMG_0935\n",
      "Image\n",
      "IMG_0936\n",
      "Image\n",
      "IMG_0937\n",
      "Image\n",
      "IMG_0938\n",
      "Image\n",
      "IMG_0939\n",
      "Image\n",
      "IMG_0940\n",
      "Image\n",
      "IMG_0941\n",
      "Image\n",
      "IMG_0942\n",
      "Image\n",
      "IMG_0943\n",
      "Image\n",
      "IMG_0944\n",
      "Image\n",
      "IMG_0945\n",
      "Image\n",
      "IMG_0946\n",
      "Image\n",
      "IMG_0947\n",
      "Image\n",
      "IMG_0948\n",
      "Image\n",
      "IMG_0949\n",
      "Image\n",
      "IMG_0952\n",
      "Image\n",
      "IMG_0953\n",
      "Image\n",
      "IMG_0954\n",
      "Image\n",
      "IMG_0955\n",
      "Moviepy - Building video ./Videos/IMG_0955.mp4.\n",
      "MoviePy - Writing audio in IMG_0955TEMP_MPY_wvf_snd.mp3\n"
     ]
    },
    {
     "name": "stderr",
     "output_type": "stream",
     "text": [
      "                                                                   \r"
     ]
    },
    {
     "name": "stdout",
     "output_type": "stream",
     "text": [
      "MoviePy - Done.\n",
      "Moviepy - Writing video ./Videos/IMG_0955.mp4\n",
      "\n"
     ]
    },
    {
     "name": "stderr",
     "output_type": "stream",
     "text": [
      "                                                              \r"
     ]
    },
    {
     "name": "stdout",
     "output_type": "stream",
     "text": [
      "Moviepy - Done !\n",
      "Moviepy - video ready ./Videos/IMG_0955.mp4\n",
      ".mov file\n",
      "IMG_0956\n",
      "Moviepy - Building video ./Videos/IMG_0956.mp4.\n",
      "MoviePy - Writing audio in IMG_0956TEMP_MPY_wvf_snd.mp3\n"
     ]
    },
    {
     "name": "stderr",
     "output_type": "stream",
     "text": [
      "                                                                   \r"
     ]
    },
    {
     "name": "stdout",
     "output_type": "stream",
     "text": [
      "MoviePy - Done.\n",
      "Moviepy - Writing video ./Videos/IMG_0956.mp4\n",
      "\n"
     ]
    },
    {
     "name": "stderr",
     "output_type": "stream",
     "text": [
      "                                                              \r"
     ]
    },
    {
     "name": "stdout",
     "output_type": "stream",
     "text": [
      "Moviepy - Done !\n",
      "Moviepy - video ready ./Videos/IMG_0956.mp4\n",
      ".mov file\n",
      "IMG_0957\n",
      "Image\n",
      "IMG_0958\n",
      "Image\n",
      "IMG_0959\n",
      "Image\n",
      "IMG_0960\n",
      "Image\n",
      "IMG_0961\n",
      "Image\n",
      "IMG_0962\n",
      "Image\n",
      "IMG_0963\n",
      "Image\n",
      "IMG_0964\n",
      "Image\n",
      "IMG_0965\n",
      "Image\n",
      "IMG_0966\n",
      "Moviepy - Building video ./Videos/IMG_0966.mp4.\n",
      "MoviePy - Writing audio in IMG_0966TEMP_MPY_wvf_snd.mp3\n"
     ]
    },
    {
     "name": "stderr",
     "output_type": "stream",
     "text": [
      "                                                                   \r"
     ]
    },
    {
     "name": "stdout",
     "output_type": "stream",
     "text": [
      "MoviePy - Done.\n",
      "Moviepy - Writing video ./Videos/IMG_0966.mp4\n",
      "\n"
     ]
    },
    {
     "name": "stderr",
     "output_type": "stream",
     "text": [
      "                                                              \r"
     ]
    },
    {
     "name": "stdout",
     "output_type": "stream",
     "text": [
      "Moviepy - Done !\n",
      "Moviepy - video ready ./Videos/IMG_0966.mp4\n",
      ".mov file\n",
      "IMG_0967\n",
      "Image\n",
      "IMG_0968\n",
      "Image\n",
      "IMG_0969\n",
      "Image\n",
      "IMG_0970\n",
      "Image\n",
      "IMG_0971\n",
      "Image\n",
      "IMG_0972\n",
      "Image\n",
      "IMG_0975\n",
      "Moviepy - Building video ./Videos/IMG_0975.mp4.\n",
      "Moviepy - Writing video ./Videos/IMG_0975.mp4\n",
      "\n"
     ]
    },
    {
     "name": "stderr",
     "output_type": "stream",
     "text": [
      "                                                            \r"
     ]
    },
    {
     "name": "stdout",
     "output_type": "stream",
     "text": [
      "Moviepy - Done !\n",
      "Moviepy - video ready ./Videos/IMG_0975.mp4\n",
      ".mov file\n",
      "IMG_0977\n",
      "Moviepy - Building video ./Videos/IMG_0977.mp4.\n",
      "MoviePy - Writing audio in IMG_0977TEMP_MPY_wvf_snd.mp3\n"
     ]
    },
    {
     "name": "stderr",
     "output_type": "stream",
     "text": [
      "                                                                   \r"
     ]
    },
    {
     "name": "stdout",
     "output_type": "stream",
     "text": [
      "MoviePy - Done.\n",
      "Moviepy - Writing video ./Videos/IMG_0977.mp4\n",
      "\n"
     ]
    },
    {
     "name": "stderr",
     "output_type": "stream",
     "text": [
      "                                                              \r"
     ]
    },
    {
     "name": "stdout",
     "output_type": "stream",
     "text": [
      "Moviepy - Done !\n",
      "Moviepy - video ready ./Videos/IMG_0977.mp4\n",
      ".mov file\n",
      "IMG_0978\n",
      "Image\n",
      "IMG_0981\n",
      "Image\n",
      "IMG_0982\n",
      "Image\n",
      "IMG_0983\n",
      "Image\n",
      "IMG_0984\n",
      "Image\n",
      "IMG_0985\n",
      "Image\n",
      "IMG_0986\n",
      "Image\n",
      "IMG_0987\n",
      "Image\n",
      "IMG_0988\n",
      "Image\n",
      "IMG_0989\n",
      "Image\n",
      "IMG_0990\n",
      "Image\n",
      "IMG_0991\n",
      "Image\n",
      "IMG_0992\n",
      "Moviepy - Building video ./Videos/IMG_0992.mp4.\n",
      "MoviePy - Writing audio in IMG_0992TEMP_MPY_wvf_snd.mp3\n"
     ]
    },
    {
     "name": "stderr",
     "output_type": "stream",
     "text": [
      "                                                                   \r"
     ]
    },
    {
     "name": "stdout",
     "output_type": "stream",
     "text": [
      "MoviePy - Done.\n",
      "Moviepy - Writing video ./Videos/IMG_0992.mp4\n",
      "\n"
     ]
    },
    {
     "name": "stderr",
     "output_type": "stream",
     "text": [
      "                                                                \r"
     ]
    },
    {
     "name": "stdout",
     "output_type": "stream",
     "text": [
      "Moviepy - Done !\n",
      "Moviepy - video ready ./Videos/IMG_0992.mp4\n",
      ".mov file\n",
      "IMG_0993\n",
      "Moviepy - Building video ./Videos/IMG_0993.mp4.\n",
      "MoviePy - Writing audio in IMG_0993TEMP_MPY_wvf_snd.mp3\n"
     ]
    },
    {
     "name": "stderr",
     "output_type": "stream",
     "text": [
      "                                                                   \r"
     ]
    },
    {
     "name": "stdout",
     "output_type": "stream",
     "text": [
      "MoviePy - Done.\n",
      "Moviepy - Writing video ./Videos/IMG_0993.mp4\n",
      "\n"
     ]
    },
    {
     "name": "stderr",
     "output_type": "stream",
     "text": [
      "                                                              \r"
     ]
    },
    {
     "name": "stdout",
     "output_type": "stream",
     "text": [
      "Moviepy - Done !\n",
      "Moviepy - video ready ./Videos/IMG_0993.mp4\n",
      ".mov file\n",
      "IMG_0994\n",
      "Moviepy - Building video ./Videos/IMG_0994.mp4.\n",
      "MoviePy - Writing audio in IMG_0994TEMP_MPY_wvf_snd.mp3\n"
     ]
    },
    {
     "name": "stderr",
     "output_type": "stream",
     "text": [
      "                                                                   \r"
     ]
    },
    {
     "name": "stdout",
     "output_type": "stream",
     "text": [
      "MoviePy - Done.\n",
      "Moviepy - Writing video ./Videos/IMG_0994.mp4\n",
      "\n"
     ]
    },
    {
     "name": "stderr",
     "output_type": "stream",
     "text": [
      "                                                              \r"
     ]
    },
    {
     "name": "stdout",
     "output_type": "stream",
     "text": [
      "Moviepy - Done !\n",
      "Moviepy - video ready ./Videos/IMG_0994.mp4\n",
      ".mov file\n",
      "IMG_0995\n",
      "Moviepy - Building video ./Videos/IMG_0995.mp4.\n",
      "MoviePy - Writing audio in IMG_0995TEMP_MPY_wvf_snd.mp3\n"
     ]
    },
    {
     "name": "stderr",
     "output_type": "stream",
     "text": [
      "                                                                 \r"
     ]
    },
    {
     "name": "stdout",
     "output_type": "stream",
     "text": [
      "MoviePy - Done.\n",
      "Moviepy - Writing video ./Videos/IMG_0995.mp4\n",
      "\n"
     ]
    },
    {
     "name": "stderr",
     "output_type": "stream",
     "text": [
      "                                                              \r"
     ]
    },
    {
     "name": "stdout",
     "output_type": "stream",
     "text": [
      "Moviepy - Done !\n",
      "Moviepy - video ready ./Videos/IMG_0995.mp4\n",
      ".mov file\n",
      "IMG_0996\n",
      "Moviepy - Building video ./Videos/IMG_0996.mp4.\n",
      "MoviePy - Writing audio in IMG_0996TEMP_MPY_wvf_snd.mp3\n"
     ]
    },
    {
     "name": "stderr",
     "output_type": "stream",
     "text": [
      "                                                                   \r"
     ]
    },
    {
     "name": "stdout",
     "output_type": "stream",
     "text": [
      "MoviePy - Done.\n",
      "Moviepy - Writing video ./Videos/IMG_0996.mp4\n",
      "\n"
     ]
    },
    {
     "name": "stderr",
     "output_type": "stream",
     "text": [
      "                                                              \r"
     ]
    },
    {
     "name": "stdout",
     "output_type": "stream",
     "text": [
      "Moviepy - Done !\n",
      "Moviepy - video ready ./Videos/IMG_0996.mp4\n",
      ".mov file\n",
      "IMG_0997\n",
      "Image\n",
      "IMG_0998\n",
      "Image\n",
      "IMG_0999\n",
      "Image\n",
      "IMG_1001\n",
      "Moviepy - Building video ./Videos/IMG_1001.mp4.\n",
      "MoviePy - Writing audio in IMG_1001TEMP_MPY_wvf_snd.mp3\n"
     ]
    },
    {
     "name": "stderr",
     "output_type": "stream",
     "text": [
      "                                                                   \r"
     ]
    },
    {
     "name": "stdout",
     "output_type": "stream",
     "text": [
      "MoviePy - Done.\n",
      "Moviepy - Writing video ./Videos/IMG_1001.mp4\n",
      "\n"
     ]
    },
    {
     "name": "stderr",
     "output_type": "stream",
     "text": [
      "                                                              \r"
     ]
    },
    {
     "name": "stdout",
     "output_type": "stream",
     "text": [
      "Moviepy - Done !\n",
      "Moviepy - video ready ./Videos/IMG_1001.mp4\n",
      ".mov file\n",
      "IMG_1002\n",
      "Image\n",
      "IMG_1003\n",
      "Image\n",
      "IMG_1004\n",
      "Image\n",
      "IMG_1005\n",
      "Image\n",
      "IMG_1006\n",
      "Image\n",
      "IMG_1007\n",
      "Image\n",
      "IMG_1008\n",
      "Image\n",
      "IMG_1009\n",
      "Image\n",
      "IMG_1010\n",
      "Image\n",
      "IMG_1011\n",
      "Image\n",
      "IMG_1012\n",
      "Image\n",
      "IMG_1013\n",
      "Image\n",
      "IMG_1014\n",
      "Image\n",
      "IMG_1015\n",
      "Moviepy - Building video ./Videos/IMG_1015.mp4.\n",
      "MoviePy - Writing audio in IMG_1015TEMP_MPY_wvf_snd.mp3\n"
     ]
    },
    {
     "name": "stderr",
     "output_type": "stream",
     "text": [
      "                                                               \r"
     ]
    },
    {
     "name": "stdout",
     "output_type": "stream",
     "text": [
      "MoviePy - Done.\n",
      "Moviepy - Writing video ./Videos/IMG_1015.mp4\n",
      "\n"
     ]
    },
    {
     "name": "stderr",
     "output_type": "stream",
     "text": [
      "                                                            \r"
     ]
    },
    {
     "name": "stdout",
     "output_type": "stream",
     "text": [
      "Moviepy - Done !\n",
      "Moviepy - video ready ./Videos/IMG_1015.mp4\n",
      ".mov file\n",
      "IMG_1016\n",
      "Image\n",
      "IMG_1017\n",
      "Image\n",
      "IMG_1018\n",
      "Image\n",
      "IMG_1019\n",
      "Image\n",
      "IMG_1020\n",
      "Image\n",
      "IMG_1021\n",
      "Image\n",
      "IMG_1022\n",
      "Image\n",
      "IMG_1023\n",
      "Image\n",
      "IMG_1024\n",
      "Image\n",
      "IMG_1025\n",
      "Image\n",
      "IMG_1026\n",
      "Image\n",
      "IMG_1027\n",
      "Image\n",
      "IMG_1028\n",
      "Image\n",
      "IMG_1029\n",
      "Image\n",
      "IMG_1030\n",
      "Image\n",
      "IMG_1031\n",
      "Moviepy - Building video ./Videos/IMG_1031.mp4.\n",
      "MoviePy - Writing audio in IMG_1031TEMP_MPY_wvf_snd.mp3\n"
     ]
    },
    {
     "name": "stderr",
     "output_type": "stream",
     "text": [
      "                                                                   \r"
     ]
    },
    {
     "name": "stdout",
     "output_type": "stream",
     "text": [
      "MoviePy - Done.\n",
      "Moviepy - Writing video ./Videos/IMG_1031.mp4\n",
      "\n"
     ]
    },
    {
     "name": "stderr",
     "output_type": "stream",
     "text": [
      "                                                              \r"
     ]
    },
    {
     "name": "stdout",
     "output_type": "stream",
     "text": [
      "Moviepy - Done !\n",
      "Moviepy - video ready ./Videos/IMG_1031.mp4\n",
      ".mov file\n",
      "IMG_1032\n",
      "Image\n",
      "IMG_1033\n",
      "Image\n",
      "IMG_1034\n",
      "Image\n",
      "IMG_1035\n",
      "Image\n",
      "IMG_1038\n",
      "Moviepy - Building video ./Videos/IMG_1038.mp4.\n",
      "MoviePy - Writing audio in IMG_1038TEMP_MPY_wvf_snd.mp3\n"
     ]
    },
    {
     "name": "stderr",
     "output_type": "stream",
     "text": [
      "                                                                   \r"
     ]
    },
    {
     "name": "stdout",
     "output_type": "stream",
     "text": [
      "MoviePy - Done.\n",
      "Moviepy - Writing video ./Videos/IMG_1038.mp4\n",
      "\n"
     ]
    },
    {
     "name": "stderr",
     "output_type": "stream",
     "text": [
      "                                                              \r"
     ]
    },
    {
     "name": "stdout",
     "output_type": "stream",
     "text": [
      "Moviepy - Done !\n",
      "Moviepy - video ready ./Videos/IMG_1038.mp4\n",
      ".mov file\n",
      "IMG_1039\n",
      "Image\n",
      "IMG_1040\n",
      "Image\n",
      "IMG_1041\n",
      "Image\n",
      "IMG_1042\n",
      "Image\n",
      "IMG_1051\n",
      "Image\n",
      "IMG_1052\n",
      "Image\n",
      "IMG_1053\n",
      "Image\n",
      "IMG_1054\n",
      "Image\n",
      "IMG_1055\n",
      "Image\n",
      "IMG_1056\n",
      "Image\n",
      "IMG_1057\n",
      "Image\n",
      "IMG_1058\n",
      "Image\n",
      "IMG_1060\n",
      "Image\n",
      "IMG_1061\n",
      "Image\n",
      "IMG_1062\n",
      "Image\n",
      "IMG_1063\n",
      "Image\n",
      "IMG_1064\n",
      "Image\n",
      "IMG_1065\n",
      "Image\n",
      "IMG_1066\n",
      "Moviepy - Building video ./Videos/IMG_1066.mp4.\n",
      "MoviePy - Writing audio in IMG_1066TEMP_MPY_wvf_snd.mp3\n"
     ]
    },
    {
     "name": "stderr",
     "output_type": "stream",
     "text": [
      "                                                                   \r"
     ]
    },
    {
     "name": "stdout",
     "output_type": "stream",
     "text": [
      "MoviePy - Done.\n",
      "Moviepy - Writing video ./Videos/IMG_1066.mp4\n",
      "\n"
     ]
    },
    {
     "name": "stderr",
     "output_type": "stream",
     "text": [
      "                                                              \r"
     ]
    },
    {
     "name": "stdout",
     "output_type": "stream",
     "text": [
      "Moviepy - Done !\n",
      "Moviepy - video ready ./Videos/IMG_1066.mp4\n",
      ".mov file\n",
      "IMG_1067\n",
      "Image\n",
      "IMG_1068\n",
      "Image\n",
      "IMG_1069\n",
      "Image\n",
      "IMG_1070\n",
      "Image\n",
      "IMG_1071\n",
      "Image\n",
      "IMG_1072\n",
      "Image\n",
      "IMG_1073\n",
      "Image\n",
      "IMG_1074\n",
      "Image\n",
      "IMG_1075\n",
      "Image\n",
      "IMG_1076\n",
      "Image\n",
      "IMG_1077\n",
      "Image\n",
      "IMG_1078\n",
      "Image\n",
      "IMG_1079\n",
      "Image\n",
      "IMG_1080\n",
      "Image\n",
      "IMG_1081\n",
      "Image\n",
      "IMG_1082\n",
      "Image\n",
      "IMG_1083\n",
      "Image\n",
      "IMG_1084\n",
      "Image\n",
      "IMG_1085\n",
      "Image\n",
      "IMG_1086\n",
      "Image\n",
      "IMG_1087\n",
      "Image\n",
      "IMG_1088\n",
      "Image\n",
      "IMG_1089\n",
      "Image\n",
      "IMG_1090\n",
      "Image\n",
      "IMG_1091\n",
      "Image\n",
      "IMG_1092\n",
      "Image\n",
      "IMG_1093\n",
      "Image\n",
      "IMG_1094\n",
      "Image\n",
      "IMG_1095\n",
      "Image\n",
      "IMG_1096\n",
      "Image\n",
      "IMG_1097\n",
      "Image\n",
      "IMG_1098\n",
      "Image\n",
      "IMG_1099\n",
      "Image\n",
      "IMG_1100\n",
      "Image\n",
      "IMG_1101\n",
      "Moviepy - Building video ./Videos/IMG_1101.mp4.\n",
      "MoviePy - Writing audio in IMG_1101TEMP_MPY_wvf_snd.mp3\n"
     ]
    },
    {
     "name": "stderr",
     "output_type": "stream",
     "text": [
      "                                                                    \r"
     ]
    },
    {
     "name": "stdout",
     "output_type": "stream",
     "text": [
      "MoviePy - Done.\n",
      "Moviepy - Writing video ./Videos/IMG_1101.mp4\n",
      "\n"
     ]
    },
    {
     "name": "stderr",
     "output_type": "stream",
     "text": [
      "                                                                \r"
     ]
    },
    {
     "name": "stdout",
     "output_type": "stream",
     "text": [
      "Moviepy - Done !\n",
      "Moviepy - video ready ./Videos/IMG_1101.mp4\n",
      ".mov file\n",
      "IMG_1102\n",
      "Image\n",
      "IMG_1103\n",
      "Image\n",
      "IMG_1104\n",
      "Image\n",
      "IMG_1105\n",
      "Image\n",
      "IMG_1106\n",
      "Image\n",
      "IMG_1107\n",
      "Image\n",
      "IMG_1108\n",
      "Image\n",
      "IMG_1109\n",
      "Image\n",
      "IMG_1110\n",
      "Image\n",
      "IMG_1131\n",
      "Image\n",
      "IMG_1132\n",
      "Image\n",
      "IMG_1133\n",
      "Image\n",
      "IMG_1134\n",
      "Image\n",
      "IMG_1135\n",
      "Image\n",
      "IMG_1136\n",
      "Image\n",
      "IMG_1137\n",
      "Image\n",
      "IMG_1138\n",
      "Image\n",
      "IMG_1139\n",
      "Image\n",
      "IMG_1140\n",
      "Image\n",
      "IMG_1141\n",
      "Image\n",
      "IMG_1142\n",
      "Image\n",
      "IMG_1143\n",
      "Image\n",
      "IMG_1144\n",
      "Image\n",
      "IMG_1145\n",
      "Image\n",
      "IMG_1146\n",
      "Image\n",
      "IMG_1147\n",
      "Image\n",
      "IMG_1148\n",
      "Image\n",
      "IMG_1149\n",
      "Image\n",
      "IMG_1150\n",
      "Image\n",
      "IMG_1151\n",
      "Image\n",
      "IMG_1152\n",
      "Image\n",
      "IMG_1153\n",
      "Image\n",
      "IMG_1154\n",
      "Image\n",
      "IMG_1155\n",
      "Moviepy - Building video ./Videos/IMG_1155.mp4.\n",
      "MoviePy - Writing audio in IMG_1155TEMP_MPY_wvf_snd.mp3\n"
     ]
    },
    {
     "name": "stderr",
     "output_type": "stream",
     "text": [
      "                                                                   \r"
     ]
    },
    {
     "name": "stdout",
     "output_type": "stream",
     "text": [
      "MoviePy - Done.\n",
      "Moviepy - Writing video ./Videos/IMG_1155.mp4\n",
      "\n"
     ]
    },
    {
     "name": "stderr",
     "output_type": "stream",
     "text": [
      "                                                              \r"
     ]
    },
    {
     "name": "stdout",
     "output_type": "stream",
     "text": [
      "Moviepy - Done !\n",
      "Moviepy - video ready ./Videos/IMG_1155.mp4\n",
      ".mov file\n",
      "IMG_1156\n",
      "Image\n",
      "IMG_1157\n",
      "Image\n",
      "IMG_1158\n",
      "Image\n",
      "IMG_1159\n",
      "Image\n",
      "IMG_1160\n",
      "Image\n",
      "IMG_1161\n",
      "Image\n",
      "IMG_1162\n",
      "Image\n",
      "IMG_1163\n",
      "Image\n",
      "IMG_1164\n",
      "Image\n",
      "IMG_1165\n",
      "Image\n",
      "IMG_1166\n",
      "Image\n",
      "IMG_1167\n",
      "Image\n",
      "IMG_1168\n",
      "Image\n",
      "IMG_1169\n",
      "Moviepy - Building video ./Videos/IMG_1169.mp4.\n",
      "MoviePy - Writing audio in IMG_1169TEMP_MPY_wvf_snd.mp3\n"
     ]
    },
    {
     "name": "stderr",
     "output_type": "stream",
     "text": [
      "                                                                   \r"
     ]
    },
    {
     "name": "stdout",
     "output_type": "stream",
     "text": [
      "MoviePy - Done.\n",
      "Moviepy - Writing video ./Videos/IMG_1169.mp4\n",
      "\n"
     ]
    },
    {
     "name": "stderr",
     "output_type": "stream",
     "text": [
      "                                                              \r"
     ]
    },
    {
     "name": "stdout",
     "output_type": "stream",
     "text": [
      "Moviepy - Done !\n",
      "Moviepy - video ready ./Videos/IMG_1169.mp4\n",
      ".mov file\n",
      "IMG_1170\n",
      "Image\n",
      "IMG_1171\n",
      "Image\n",
      "IMG_1172\n",
      "Image\n",
      "IMG_1173\n",
      "Image\n",
      "IMG_1174\n",
      "Image\n",
      "IMG_1175\n",
      "Image\n",
      "IMG_1176\n",
      "Image\n",
      "IMG_1177\n",
      "Image\n",
      "IMG_1179\n",
      "Image\n",
      "IMG_1180\n",
      "Image\n",
      "IMG_1181\n",
      "Image\n",
      "IMG_1182\n",
      "Image\n",
      "240\n"
     ]
    }
   ],
   "source": [
    "def count_files(path) :\n",
    "  count=0\n",
    "  thisset={'new'}\n",
    "  for root,dirs,files in os.walk(path):\n",
    "    for file in files:\n",
    "      # print(file)\n",
    "      split_tup = os.path.splitext(file)\n",
    "      file_name = split_tup[0]\n",
    "      print(file_name)\n",
    "      file_extension = split_tup[1]\n",
    "      thisset.add(file_extension)\n",
    "      # print(\"File Extension: \", file_extension)\n",
    "      # if (file_extension == '.HEIC' or file_extension == '.heic') :\n",
    "      #   img = Image.open(\"./Input/\"+file)\n",
    "      #   img.save(\"./Output/\"+file_name+\".jpg\")\n",
    "      if (file_extension == '.MOV' or file_extension == '.mov') :\n",
    "        clip = mpe.VideoFileClip('./Input/'+file)\n",
    "        clip.write_videofile('./Videos/'+file_name+\".mp4\")\n",
    "        print(\".mov file\")\n",
    "      else :\n",
    "        # img = Image.open(\"./Input/\"+file)\n",
    "        # img.save(\"./Output2/\"+file_name+\".jpg\")\n",
    "        # img.save(\"./Output/\"+file_name+\".jpg\")\n",
    "        count+=1\n",
    "        print(\"Image\")\n",
    "         \n",
    "  return count\n",
    "path=(\"./Input/\")\n",
    "number_Of_Files=count_files(path)\n",
    "print(number_Of_Files)\n",
    "# print()"
   ]
  },
  {
   "cell_type": "code",
   "execution_count": null,
   "metadata": {},
   "outputs": [],
   "source": []
  }
 ],
 "metadata": {
  "kernelspec": {
   "display_name": ".venv",
   "language": "python",
   "name": "python3"
  },
  "language_info": {
   "codemirror_mode": {
    "name": "ipython",
    "version": 3
   },
   "file_extension": ".py",
   "mimetype": "text/x-python",
   "name": "python",
   "nbconvert_exporter": "python",
   "pygments_lexer": "ipython3",
   "version": "3.12.0"
  }
 },
 "nbformat": 4,
 "nbformat_minor": 2
}
